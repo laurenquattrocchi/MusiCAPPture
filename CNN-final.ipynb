{
 "cells": [
  {
   "cell_type": "markdown",
   "id": "0e1eb606",
   "metadata": {},
   "source": [
    "# CNN model"
   ]
  },
  {
   "cell_type": "code",
   "execution_count": 1,
   "id": "cf6bf8ef",
   "metadata": {},
   "outputs": [],
   "source": [
    "import math\n",
    "import pandas as pd\n",
    "import numpy as np\n",
    "import matplotlib.pyplot as plt\n",
    "import matplotlib.image as mpimg\n",
    "import tensorflow as tf\n",
    "from sklearn.model_selection import train_test_split\n",
    "from sklearn.metrics import confusion_matrix , classification_report, plot_confusion_matrix\n",
    "%matplotlib inline"
   ]
  },
  {
   "cell_type": "code",
   "execution_count": 2,
   "id": "23269f54",
   "metadata": {},
   "outputs": [],
   "source": [
    "tf.compat.v1.set_random_seed(2022)"
   ]
  },
  {
   "cell_type": "code",
   "execution_count": 4,
   "id": "d84b9d1b",
   "metadata": {},
   "outputs": [],
   "source": [
    "def plot_history(hist):\n",
    "    plt.figure(figsize=(20,15))\n",
    "    fig, axs = plt.subplots(2)\n",
    "    # accuracy subplot\n",
    "    axs[0].plot(hist.history[\"acc\"], label=\"train accuracy\")\n",
    "    axs[0].plot(hist.history[\"val_acc\"], label=\"test accuracy\")    \n",
    "    axs[0].set_ylabel(\"Accuracy\")\n",
    "    axs[0].legend(loc=\"lower right\")\n",
    "    \n",
    "    # Error subplot\n",
    "    axs[1].plot(hist.history[\"loss\"], label=\"train error\")\n",
    "    axs[1].plot(hist.history[\"val_loss\"], label=\"test error\")    \n",
    "    axs[1].set_ylabel(\"Error\")\n",
    "    axs[1].set_xlabel(\"Epoch\")\n",
    "    axs[1].legend(loc=\"upper right\")"
   ]
  },
  {
   "cell_type": "code",
   "execution_count": 3,
   "id": "15772f4b",
   "metadata": {},
   "outputs": [
    {
     "name": "stdout",
     "output_type": "stream",
     "text": [
      "Found 799 images belonging to 10 classes.\n",
      "Found 200 images belonging to 10 classes.\n"
     ]
    }
   ],
   "source": [
    "bs=40         #Setting batch size\n",
    "train_dir = \"/mnt/c/Users/rodri/OneDrive/Documentos/Rodrigo/Chicago/Clases/GITHUB_RodSlzr/Machine_Learning/MusiCAPPture/data/images_train_test/train_images/\"   #Setting training directory\n",
    "validation_dir = \"/mnt/c/Users/rodri/OneDrive/Documentos/Rodrigo/Chicago/Clases/GITHUB_RodSlzr/Machine_Learning/MusiCAPPture/data/images_train_test/test_images/\"   #Setting testing directory\n",
    "from tensorflow.keras.preprocessing.image import ImageDataGenerator \n",
    "# All images will be rescaled by 1./255.\n",
    "train_datagen = ImageDataGenerator( rescale = 1.0/255. )\n",
    "test_datagen  = ImageDataGenerator( rescale = 1.0/255. )\n",
    "# Flow training images in batches of 20 using train_datagen generator\n",
    "#Flow_from_directory function lets the classifier directly identify the labels from the name of the directories the image lies in\n",
    "train_generator=train_datagen.flow_from_directory(train_dir,\n",
    "                                                  batch_size=bs,\n",
    "                                                  class_mode='categorical',\n",
    "                                                  target_size=(180,180),\n",
    "                                                 shuffle=True)\n",
    "# Flow validation images in batches of 20 using test_datagen generator\n",
    "validation_generator =  test_datagen.flow_from_directory(validation_dir,\n",
    "                                                         batch_size=bs,\n",
    "                                                         class_mode  = 'categorical',\n",
    "                                                         target_size=(180,180),\n",
    "                                                        shuffle=True)"
   ]
  },
  {
   "cell_type": "code",
   "execution_count": 5,
   "id": "59ed6ed0",
   "metadata": {},
   "outputs": [
    {
     "name": "stdout",
     "output_type": "stream",
     "text": [
      "Epoch 1/75\n",
      "3/3 - 5s - loss: 2.3899 - acc: 0.0917 - val_loss: 2.2807 - val_acc: 0.1000\n",
      "Epoch 2/75\n",
      "3/3 - 4s - loss: 2.3176 - acc: 0.1250 - val_loss: 2.3013 - val_acc: 0.1500\n",
      "Epoch 3/75\n",
      "3/3 - 4s - loss: 2.2957 - acc: 0.1583 - val_loss: 2.2827 - val_acc: 0.1500\n",
      "Epoch 4/75\n",
      "3/3 - 4s - loss: 2.2759 - acc: 0.1333 - val_loss: 2.2650 - val_acc: 0.1500\n",
      "Epoch 5/75\n",
      "3/3 - 4s - loss: 2.2728 - acc: 0.1417 - val_loss: 2.3132 - val_acc: 0.1250\n",
      "Epoch 6/75\n",
      "3/3 - 5s - loss: 2.2320 - acc: 0.1417 - val_loss: 2.2297 - val_acc: 0.2500\n",
      "Epoch 7/75\n",
      "3/3 - 5s - loss: 2.2392 - acc: 0.1750 - val_loss: 2.1567 - val_acc: 0.2250\n",
      "Epoch 8/75\n",
      "3/3 - 5s - loss: 2.1550 - acc: 0.1667 - val_loss: 2.1000 - val_acc: 0.1750\n",
      "Epoch 9/75\n",
      "3/3 - 4s - loss: 2.0800 - acc: 0.2941 - val_loss: 2.2342 - val_acc: 0.1250\n",
      "Epoch 10/75\n",
      "3/3 - 4s - loss: 2.0532 - acc: 0.2750 - val_loss: 2.0474 - val_acc: 0.2250\n",
      "Epoch 11/75\n",
      "3/3 - 4s - loss: 2.1053 - acc: 0.1917 - val_loss: 2.2325 - val_acc: 0.1500\n",
      "Epoch 12/75\n",
      "3/3 - 4s - loss: 2.0701 - acc: 0.2167 - val_loss: 2.0383 - val_acc: 0.1750\n",
      "Epoch 13/75\n",
      "3/3 - 5s - loss: 2.0523 - acc: 0.2250 - val_loss: 2.0775 - val_acc: 0.2750\n",
      "Epoch 14/75\n",
      "3/3 - 4s - loss: 1.9711 - acc: 0.2583 - val_loss: 2.1171 - val_acc: 0.1500\n",
      "Epoch 15/75\n",
      "3/3 - 4s - loss: 1.9425 - acc: 0.2167 - val_loss: 2.0267 - val_acc: 0.2250\n",
      "Epoch 16/75\n",
      "3/3 - 4s - loss: 1.8629 - acc: 0.3583 - val_loss: 1.9297 - val_acc: 0.3250\n",
      "Epoch 17/75\n",
      "3/3 - 5s - loss: 1.7999 - acc: 0.3583 - val_loss: 2.0357 - val_acc: 0.2750\n",
      "Epoch 18/75\n",
      "3/3 - 4s - loss: 1.8460 - acc: 0.3583 - val_loss: 1.7935 - val_acc: 0.4250\n",
      "Epoch 19/75\n",
      "3/3 - 4s - loss: 1.6871 - acc: 0.4417 - val_loss: 2.0603 - val_acc: 0.2500\n",
      "Epoch 20/75\n",
      "3/3 - 5s - loss: 1.7665 - acc: 0.3833 - val_loss: 2.0780 - val_acc: 0.2000\n",
      "Epoch 21/75\n",
      "3/3 - 5s - loss: 1.5901 - acc: 0.4454 - val_loss: 1.9486 - val_acc: 0.2500\n",
      "Epoch 22/75\n",
      "3/3 - 5s - loss: 1.7509 - acc: 0.3583 - val_loss: 1.8593 - val_acc: 0.4000\n",
      "Epoch 23/75\n",
      "3/3 - 4s - loss: 1.6366 - acc: 0.4250 - val_loss: 1.8688 - val_acc: 0.2750\n",
      "Epoch 24/75\n",
      "3/3 - 5s - loss: 1.6455 - acc: 0.3833 - val_loss: 1.9392 - val_acc: 0.2750\n",
      "Epoch 25/75\n",
      "3/3 - 5s - loss: 1.7320 - acc: 0.3333 - val_loss: 1.9637 - val_acc: 0.3500\n",
      "Epoch 26/75\n",
      "3/3 - 5s - loss: 1.4920 - acc: 0.4583 - val_loss: 1.6929 - val_acc: 0.3750\n",
      "Epoch 27/75\n",
      "3/3 - 5s - loss: 1.4430 - acc: 0.4874 - val_loss: 1.6981 - val_acc: 0.3500\n",
      "Epoch 28/75\n",
      "3/3 - 4s - loss: 1.5759 - acc: 0.4583 - val_loss: 1.6842 - val_acc: 0.3500\n",
      "Epoch 29/75\n",
      "3/3 - 4s - loss: 1.4880 - acc: 0.5294 - val_loss: 1.6895 - val_acc: 0.4500\n",
      "Epoch 30/75\n",
      "3/3 - 4s - loss: 1.2832 - acc: 0.5500 - val_loss: 1.7495 - val_acc: 0.3250\n",
      "Epoch 31/75\n",
      "3/3 - 4s - loss: 1.5463 - acc: 0.4250 - val_loss: 1.5203 - val_acc: 0.4500\n",
      "Epoch 32/75\n",
      "3/3 - 4s - loss: 1.4842 - acc: 0.4333 - val_loss: 1.7511 - val_acc: 0.3500\n",
      "Epoch 33/75\n",
      "3/3 - 4s - loss: 1.4362 - acc: 0.5126 - val_loss: 1.3004 - val_acc: 0.4500\n",
      "Epoch 34/75\n",
      "3/3 - 4s - loss: 1.4127 - acc: 0.4833 - val_loss: 1.5027 - val_acc: 0.4250\n",
      "Epoch 35/75\n",
      "3/3 - 4s - loss: 1.3620 - acc: 0.5210 - val_loss: 1.3866 - val_acc: 0.5750\n",
      "Epoch 36/75\n",
      "3/3 - 5s - loss: 1.1869 - acc: 0.5583 - val_loss: 1.6892 - val_acc: 0.3750\n",
      "Epoch 37/75\n",
      "3/3 - 4s - loss: 1.3667 - acc: 0.5333 - val_loss: 1.2231 - val_acc: 0.5250\n",
      "Epoch 38/75\n",
      "3/3 - 4s - loss: 1.1975 - acc: 0.5250 - val_loss: 1.6594 - val_acc: 0.4000\n",
      "Epoch 39/75\n",
      "3/3 - 5s - loss: 1.1430 - acc: 0.5833 - val_loss: 1.1439 - val_acc: 0.4500\n",
      "Epoch 40/75\n",
      "3/3 - 4s - loss: 0.9497 - acc: 0.6723 - val_loss: 1.6913 - val_acc: 0.5000\n",
      "Epoch 41/75\n",
      "3/3 - 5s - loss: 1.1281 - acc: 0.6000 - val_loss: 1.6124 - val_acc: 0.4750\n",
      "Epoch 42/75\n",
      "3/3 - 5s - loss: 0.9941 - acc: 0.6917 - val_loss: 1.9202 - val_acc: 0.3750\n",
      "Epoch 43/75\n",
      "3/3 - 4s - loss: 0.9736 - acc: 0.6250 - val_loss: 1.5871 - val_acc: 0.4750\n",
      "Epoch 44/75\n",
      "3/3 - 4s - loss: 1.0999 - acc: 0.6167 - val_loss: 1.4486 - val_acc: 0.4500\n",
      "Epoch 45/75\n",
      "3/3 - 4s - loss: 1.1335 - acc: 0.5583 - val_loss: 1.5751 - val_acc: 0.3250\n",
      "Epoch 46/75\n",
      "3/3 - 4s - loss: 1.1080 - acc: 0.5583 - val_loss: 1.7329 - val_acc: 0.4750\n",
      "Epoch 47/75\n",
      "3/3 - 4s - loss: 1.0373 - acc: 0.5833 - val_loss: 1.8094 - val_acc: 0.3500\n",
      "Epoch 48/75\n",
      "3/3 - 4s - loss: 0.9499 - acc: 0.6667 - val_loss: 1.4914 - val_acc: 0.4750\n",
      "Epoch 49/75\n",
      "3/3 - 4s - loss: 0.9896 - acc: 0.6333 - val_loss: 1.6695 - val_acc: 0.5250\n",
      "Epoch 50/75\n",
      "3/3 - 4s - loss: 0.9272 - acc: 0.6500 - val_loss: 1.7551 - val_acc: 0.5250\n",
      "Epoch 51/75\n",
      "3/3 - 4s - loss: 0.8341 - acc: 0.6750 - val_loss: 1.5614 - val_acc: 0.5250\n",
      "Epoch 52/75\n",
      "3/3 - 5s - loss: 0.9974 - acc: 0.6417 - val_loss: 1.6149 - val_acc: 0.4750\n",
      "Epoch 53/75\n",
      "3/3 - 5s - loss: 0.8484 - acc: 0.6833 - val_loss: 1.3039 - val_acc: 0.5750\n",
      "Epoch 54/75\n",
      "3/3 - 5s - loss: 1.0434 - acc: 0.6000 - val_loss: 1.5747 - val_acc: 0.3750\n",
      "Epoch 55/75\n",
      "3/3 - 5s - loss: 0.8593 - acc: 0.7333 - val_loss: 2.0300 - val_acc: 0.2750\n",
      "Epoch 56/75\n",
      "3/3 - 5s - loss: 0.8770 - acc: 0.7167 - val_loss: 1.3874 - val_acc: 0.5500\n",
      "Epoch 57/75\n",
      "3/3 - 5s - loss: 0.9308 - acc: 0.6750 - val_loss: 2.2085 - val_acc: 0.3750\n",
      "Epoch 58/75\n",
      "3/3 - 5s - loss: 0.9669 - acc: 0.6667 - val_loss: 1.6225 - val_acc: 0.5000\n",
      "Epoch 59/75\n",
      "3/3 - 5s - loss: 0.8361 - acc: 0.7250 - val_loss: 1.5537 - val_acc: 0.5750\n",
      "Epoch 60/75\n",
      "3/3 - 5s - loss: 0.8151 - acc: 0.7083 - val_loss: 1.7901 - val_acc: 0.5500\n",
      "Epoch 61/75\n",
      "3/3 - 5s - loss: 0.9622 - acc: 0.6975 - val_loss: 1.6020 - val_acc: 0.4500\n",
      "Epoch 62/75\n",
      "3/3 - 5s - loss: 0.8026 - acc: 0.7479 - val_loss: 1.5716 - val_acc: 0.4000\n",
      "Epoch 63/75\n",
      "3/3 - 5s - loss: 0.7957 - acc: 0.7167 - val_loss: 1.4402 - val_acc: 0.5750\n",
      "Epoch 64/75\n",
      "3/3 - 5s - loss: 0.6719 - acc: 0.8333 - val_loss: 1.3862 - val_acc: 0.5500\n",
      "Epoch 65/75\n",
      "3/3 - 5s - loss: 0.6327 - acc: 0.7750 - val_loss: 1.1436 - val_acc: 0.5500\n",
      "Epoch 66/75\n",
      "3/3 - 5s - loss: 0.5887 - acc: 0.7833 - val_loss: 1.5729 - val_acc: 0.5500\n",
      "Epoch 67/75\n",
      "3/3 - 5s - loss: 0.5753 - acc: 0.7833 - val_loss: 1.5612 - val_acc: 0.5750\n",
      "Epoch 68/75\n",
      "3/3 - 5s - loss: 0.6762 - acc: 0.7815 - val_loss: 1.5806 - val_acc: 0.4750\n",
      "Epoch 69/75\n",
      "3/3 - 5s - loss: 0.6126 - acc: 0.7815 - val_loss: 1.3718 - val_acc: 0.4750\n",
      "Epoch 70/75\n",
      "3/3 - 4s - loss: 0.6645 - acc: 0.7563 - val_loss: 1.5811 - val_acc: 0.5500\n",
      "Epoch 71/75\n",
      "3/3 - 4s - loss: 0.5732 - acc: 0.8167 - val_loss: 1.1486 - val_acc: 0.5250\n",
      "Epoch 72/75\n",
      "3/3 - 4s - loss: 0.6309 - acc: 0.7583 - val_loss: 1.7033 - val_acc: 0.4750\n",
      "Epoch 73/75\n",
      "3/3 - 4s - loss: 0.6913 - acc: 0.7395 - val_loss: 1.5294 - val_acc: 0.5500\n",
      "Epoch 74/75\n",
      "3/3 - 4s - loss: 0.6836 - acc: 0.7667 - val_loss: 1.7028 - val_acc: 0.3750\n",
      "Epoch 75/75\n",
      "3/3 - 4s - loss: 0.7224 - acc: 0.7917 - val_loss: 1.1384 - val_acc: 0.5500\n"
     ]
    }
   ],
   "source": [
    "# super model\n",
    "model = tf.keras.models.Sequential([\n",
    "    tf.keras.layers.Conv2D(16,(1,1),activation = \"relu\" , input_shape = (180,180,3)) , #Convolution\n",
    "    tf.keras.layers.Conv2D(32, (2, 2), activation = \"relu\"),  #Convolution\n",
    "    tf.keras.layers.MaxPooling2D(2, 2), #Pooling\n",
    "    tf.keras.layers.Conv2D(32, (2, 2), activation = \"relu\"),  #Convolution\n",
    "    tf.keras.layers.MaxPooling2D(3, 3), #Pooling\n",
    "    tf.keras.layers.Conv2D(64, (3, 3), activation = \"relu\"),  #Convolution\n",
    "    tf.keras.layers.MaxPooling2D(3, 3), #Pooling\n",
    "    tf.keras.layers.Flatten(),\n",
    "    tf.keras.layers.Dense(800,activation=\"relu\"),      #Hidden layer\n",
    "    tf.keras.layers.Dropout(0.1,seed = 2019),\n",
    "    tf.keras.layers.Dense(600,activation=\"relu\"),      #Hidden layer\n",
    "    tf.keras.layers.Dropout(0.1,seed = 2019),\n",
    "    tf.keras.layers.Dense(10,activation = \"softmax\")   #Output Layer\n",
    "])\n",
    "model.compile(optimizer='adam', loss='categorical_crossentropy', metrics = ['acc'])\n",
    "history = model.fit(train_generator,\n",
    "                    validation_data=validation_generator,\n",
    "                    steps_per_epoch=150 // bs,\n",
    "                    epochs=75,\n",
    "                    validation_steps=50 // bs,\n",
    "                    verbose=2)\n",
    "\n"
   ]
  },
  {
   "cell_type": "code",
   "execution_count": 6,
   "id": "d8a6b62e",
   "metadata": {},
   "outputs": [
    {
     "data": {
      "text/plain": [
       "<Figure size 1440x1080 with 0 Axes>"
      ]
     },
     "metadata": {},
     "output_type": "display_data"
    },
    {
     "data": {
      "image/png": "[encoded data removed]",
      "text/plain": [
       "<Figure size 432x288 with 2 Axes>"
      ]
     },
     "metadata": {
      "needs_background": "light"
     },
     "output_type": "display_data"
    }
   ],
   "source": [
    "plot_history(history)"
   ]
  },
  {
   "cell_type": "code",
   "execution_count": 7,
   "id": "fa31591d",
   "metadata": {},
   "outputs": [
    {
     "name": "stdout",
     "output_type": "stream",
     "text": [
      "Evaluate on test data\n",
      "5/5 [==============================] - 2s 292ms/step - loss: 1.5637 - acc: 0.4800\n"
     ]
    }
   ],
   "source": [
    "print(\"Evaluate on test data\")\n",
    "results = model.evaluate(validation_generator, batch_size=30)"
   ]
  },
  {
   "cell_type": "code",
   "execution_count": 8,
   "id": "85753fe5",
   "metadata": {},
   "outputs": [
    {
     "name": "stdout",
     "output_type": "stream",
     "text": [
      "Model: \"sequential\"\n",
      "_________________________________________________________________\n",
      "Layer (type)                 Output Shape              Param #   \n",
      "=================================================================\n",
      "conv2d (Conv2D)              (None, 180, 180, 16)      64        \n",
      "_________________________________________________________________\n",
      "conv2d_1 (Conv2D)            (None, 179, 179, 32)      2080      \n",
      "_________________________________________________________________\n",
      "max_pooling2d (MaxPooling2D) (None, 89, 89, 32)        0         \n",
      "_________________________________________________________________\n",
      "conv2d_2 (Conv2D)            (None, 88, 88, 32)        4128      \n",
      "_________________________________________________________________\n",
      "max_pooling2d_1 (MaxPooling2 (None, 29, 29, 32)        0         \n",
      "_________________________________________________________________\n",
      "conv2d_3 (Conv2D)            (None, 27, 27, 64)        18496     \n",
      "_________________________________________________________________\n",
      "max_pooling2d_2 (MaxPooling2 (None, 9, 9, 64)          0         \n",
      "_________________________________________________________________\n",
      "flatten (Flatten)            (None, 5184)              0         \n",
      "_________________________________________________________________\n",
      "dense (Dense)                (None, 800)               4148000   \n",
      "_________________________________________________________________\n",
      "dropout (Dropout)            (None, 800)               0         \n",
      "_________________________________________________________________\n",
      "dense_1 (Dense)              (None, 600)               480600    \n",
      "_________________________________________________________________\n",
      "dropout_1 (Dropout)          (None, 600)               0         \n",
      "_________________________________________________________________\n",
      "dense_2 (Dense)              (None, 10)                6010      \n",
      "=================================================================\n",
      "Total params: 4,659,378\n",
      "Trainable params: 4,659,378\n",
      "Non-trainable params: 0\n",
      "_________________________________________________________________\n"
     ]
    }
   ],
   "source": [
    "model.summary()"
   ]
  },
  {
   "cell_type": "code",
   "execution_count": 9,
   "id": "d6380e27",
   "metadata": {},
   "outputs": [
    {
     "name": "stdout",
     "output_type": "stream",
     "text": [
      "Found 200 images belonging to 10 classes.\n"
     ]
    }
   ],
   "source": [
    "# Flow validation images in batches of 20 using test_datagen generator\n",
    "validation_generator =  test_datagen.flow_from_directory(validation_dir,\n",
    "                                                         batch_size=bs,\n",
    "                                                         class_mode  = 'categorical',\n",
    "                                                         target_size=(180,180),\n",
    "                                                        shuffle=False)"
   ]
  },
  {
   "cell_type": "code",
   "execution_count": 10,
   "id": "260eb628",
   "metadata": {},
   "outputs": [
    {
     "name": "stderr",
     "output_type": "stream",
     "text": [
      "/mnt/c/Users/rodri/OneDrive/Documentos/Rodrigo/Chicago/Clases/GITHUB_RodSlzr/Machine_Learning/MusiCAPPture/venv/lib/python3.6/site-packages/keras/engine/training.py:2035: UserWarning: `Model.predict_generator` is deprecated and will be removed in a future version. Please use `Model.predict`, which supports generators.\n",
      "  warnings.warn('`Model.predict_generator` is deprecated and '\n"
     ]
    },
    {
     "name": "stdout",
     "output_type": "stream",
     "text": [
      "Confusion Matrix\n",
      "[[11  0  3  0  2  2  0  0  1  1]\n",
      " [ 0 18  1  0  0  1  0  0  0  0]\n",
      " [ 0  0  9  4  1  1  0  1  2  2]\n",
      " [ 3  0  2  5  7  0  0  0  1  2]\n",
      " [ 0  0  0  0 19  0  0  0  1  0]\n",
      " [ 6  1  1  1  1  7  0  1  2  0]\n",
      " [ 1  0  0  2  6  0 10  0  0  1]\n",
      " [ 0  0  1  5  5  0  0  9  0  0]\n",
      " [ 2  0  1  4  7  1  0  1  4  0]\n",
      " [ 3  0  1  5  3  0  4  0  0  4]]\n",
      "Classification Report\n",
      "              precision    recall  f1-score   support\n",
      "\n",
      "           0       0.42      0.55      0.48        20\n",
      "           1       0.95      0.90      0.92        20\n",
      "           2       0.47      0.45      0.46        20\n",
      "           3       0.19      0.25      0.22        20\n",
      "           4       0.37      0.95      0.54        20\n",
      "           5       0.58      0.35      0.44        20\n",
      "           6       0.71      0.50      0.59        20\n",
      "           7       0.75      0.45      0.56        20\n",
      "           8       0.36      0.20      0.26        20\n",
      "           9       0.40      0.20      0.27        20\n",
      "\n",
      "    accuracy                           0.48       200\n",
      "   macro avg       0.52      0.48      0.47       200\n",
      "weighted avg       0.52      0.48      0.47       200\n",
      "\n"
     ]
    }
   ],
   "source": [
    "Y_pred = model.predict_generator(validation_generator)\n",
    "y_pred = np.argmax(Y_pred, axis=1)\n",
    "print('Confusion Matrix')\n",
    "print(confusion_matrix(validation_generator.classes, y_pred))\n",
    "print('Classification Report')\n",
    "#target_names = ['Cats', 'Dogs', 'Horse']\n",
    "print(classification_report(validation_generator.classes, y_pred))"
   ]
  },
  {
   "cell_type": "code",
   "execution_count": 11,
   "id": "0fcb2763",
   "metadata": {},
   "outputs": [
    {
     "data": {
      "image/png": "[encoded data removed]",
      "text/plain": [
       "<Figure size 432x288 with 2 Axes>"
      ]
     },
     "metadata": {
      "needs_background": "light"
     },
     "output_type": "display_data"
    }
   ],
   "source": [
    "from sklearn.metrics import ConfusionMatrixDisplay\n",
    "labels = ['blues', 'classical', 'country', 'disco', 'hiphop', 'jazz',\n",
    "        'metal', 'pop', 'reggae', 'rock']\n",
    "\n",
    "cm = confusion_matrix(validation_generator.classes, y_pred)\n",
    "\n",
    "disp = ConfusionMatrixDisplay(confusion_matrix=cm, display_labels=labels)\n",
    "\n",
    "disp.plot(cmap=plt.cm.Blues)\n",
    "plt.xticks(rotation=45)\n",
    "plt.title(\"CNN Confusion Matrix\")\n",
    "plt.show()"
   ]
  },
  {
   "cell_type": "code",
   "execution_count": 14,
   "id": "785aec74",
   "metadata": {},
   "outputs": [
    {
     "name": "stdout",
     "output_type": "stream",
     "text": [
      "Found 3 images belonging to 10 classes.\n"
     ]
    }
   ],
   "source": [
    "bs=40         #Setting batch size\n",
    "\n",
    "happy_dir = \"/mnt/c/Users/rodri/OneDrive/Documentos/Rodrigo/Chicago/Clases/GITHUB_RodSlzr/Machine_Learning/MusiCAPPture/data/images_train_test/happy/\"   #Setting testing directory\n",
    "#from tensorflow.keras.preprocessing.image import ImageDataGenerator \n",
    "# All images will be rescaled by 1./255.\n",
    "happy_datagen = ImageDataGenerator( rescale = 1.0/255. )\n",
    "\n",
    "# Flow validation images in batches of 20 using test_datagen generator\n",
    "happy_generator =  happy_datagen.flow_from_directory(happy_dir,\n",
    "                                                         batch_size=bs,\n",
    "                                                         class_mode  = 'categorical',\n",
    "                                                         target_size=(180,180),\n",
    "                                                        shuffle=False)"
   ]
  },
  {
   "cell_type": "code",
   "execution_count": 15,
   "id": "8dbeb268",
   "metadata": {},
   "outputs": [
    {
     "data": {
      "text/plain": [
       "array([1, 6, 6])"
      ]
     },
     "execution_count": 15,
     "metadata": {},
     "output_type": "execute_result"
    }
   ],
   "source": [
    "Y_pred = model.predict_generator(happy_generator) #, 50 // bs+1)\n",
    "y_pred = np.argmax(Y_pred, axis=1)\n",
    "y_pred"
   ]
  },
  {
   "cell_type": "code",
   "execution_count": 16,
   "id": "e983426d",
   "metadata": {},
   "outputs": [
    {
     "data": {
      "text/plain": [
       "'/mnt/c/Users/rodri/OneDrive/Documentos/Rodrigo/Chicago/Clases/GITHUB_RodSlzr/Machine_Learning/MusiCAPPture'"
      ]
     },
     "execution_count": 16,
     "metadata": {},
     "output_type": "execute_result"
    }
   ],
   "source": [
    "pwd"
   ]
  }
 ],
 "metadata": {
  "kernelspec": {
   "display_name": "Python 3",
   "language": "python",
   "name": "python3"
  },
  "language_info": {
   "codemirror_mode": {
    "name": "ipython",
    "version": 3
   },
   "file_extension": ".py",
   "mimetype": "text/x-python",
   "name": "python",
   "nbconvert_exporter": "python",
   "pygments_lexer": "ipython3",
   "version": "3.6.9"
  }
 },
 "nbformat": 4,
 "nbformat_minor": 5
}
