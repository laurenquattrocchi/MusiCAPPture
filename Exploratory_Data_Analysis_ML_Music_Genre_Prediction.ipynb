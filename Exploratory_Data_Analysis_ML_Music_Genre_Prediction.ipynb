{
  "nbformat": 4,
  "nbformat_minor": 0,
  "metadata": {
    "colab": {
      "name": "Exploratory Data Analysis - ML Music Genre Prediction.ipynb",
      "provenance": [],
      "include_colab_link": true
    },
    "kernelspec": {
      "name": "python3",
      "display_name": "Python 3"
    },
    "language_info": {
      "name": "python"
    }
  },
  "cells": [
    {
      "cell_type": "markdown",
      "metadata": {
        "id": "view-in-github",
        "colab_type": "text"
      },
      "source": [
        "<a href=\"https://colab.research.google.com/github/laurenquattrocchi/MusiCAPPture/blob/main/Exploratory_Data_Analysis_ML_Music_Genre_Prediction.ipynb\" target=\"_parent\"><img src=\"https://colab.research.google.com/assets/colab-badge.svg\" alt=\"Open In Colab\"/></a>"
      ]
    },
    {
      "cell_type": "code",
      "execution_count": null,
      "metadata": {
        "id": "mTv22oR3R0pa"
      },
      "outputs": [],
      "source": [
        "import pandas as pd \n",
        "import numpy as np\n",
        "import matplotlib.pyplot as plt "
      ]
    },
    {
      "cell_type": "code",
      "source": [
        "from google.colab import drive\n",
        "drive.mount('/content/drive')\n",
        "\n",
        "pd.set_option('display.max_rows', 500)\n",
        "pd.options.display.width = 0\n",
        "\n",
        "my_drive = '/content/drive/My Drive/UChicag/3 - spring 2022/ML_Project'\n",
        "\n",
        "# Addresses identified as BOTH leads and in the m assessors file - many \n",
        "# dupes because of algo structure\n",
        "data = pd.read_csv(f'{my_drive}features_3_sec.csv')\n"
      ],
      "metadata": {
        "id": "vol0Qk5KZxwR"
      },
      "execution_count": null,
      "outputs": []
    },
    {
      "cell_type": "code",
      "source": [
        "data = pd.read_csv('')"
      ],
      "metadata": {
        "id": "7kPDXT-PSgRc"
      },
      "execution_count": null,
      "outputs": []
    },
    {
      "cell_type": "markdown",
      "source": [
        "Exploring the Numerical Data"
      ],
      "metadata": {
        "id": "IjI-WLMPSko3"
      }
    },
    {
      "cell_type": "markdown",
      "source": [
        "Exploring the .wav Data"
      ],
      "metadata": {
        "id": "r4WxZGzLWeK2"
      }
    },
    {
      "cell_type": "code",
      "source": [
        "from scipy.io import wavfile\n",
        "samplerate, data = wavfile.read('./output/audio.wav')"
      ],
      "metadata": {
        "id": "ozDmHdwuSp7S"
      },
      "execution_count": null,
      "outputs": []
    },
    {
      "cell_type": "markdown",
      "source": [
        "Exploring the .png Data"
      ],
      "metadata": {
        "id": "QhO5mE-EW1Si"
      }
    },
    {
      "cell_type": "code",
      "source": [
        "from scipy import misc\n",
        "import imageio\n",
        "f = misc.face()\n",
        "imageio.imsave('face.png', f) # uses the Image module (PIL)\n",
        "\n",
        "import matplotlib.pyplot as plt\n",
        "plt.imshow(f)\n",
        "plt.show()"
      ],
      "metadata": {
        "id": "qZwmDjTOWgt_"
      },
      "execution_count": null,
      "outputs": []
    }
  ]
}